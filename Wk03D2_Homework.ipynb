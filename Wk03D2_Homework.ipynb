{
 "cells": [
  {
   "attachments": {},
   "cell_type": "markdown",
   "metadata": {},
   "source": [
    "# Wk03D2 Homework"
   ]
  },
  {
   "cell_type": "markdown",
   "metadata": {},
   "source": [
    "# Exercises"
   ]
  },
  {
   "cell_type": "markdown",
   "metadata": {},
   "source": [
    "### Exercise #1 <br>\n",
    "<p>Reverse the list below in-place using an in-place algorithm.<br>For extra credit: Reverse the strings at the same time.</p>"
   ]
  },
  {
   "cell_type": "code",
   "execution_count": 1,
   "metadata": {},
   "outputs": [
    {
     "name": "stdout",
     "output_type": "stream",
     "text": [
      "['.', 'ecnetnes', 'a', 'si', 'siht']\n"
     ]
    }
   ],
   "source": [
    "words = ['this' , 'is', 'a', 'sentence', '.']\n",
    "\n",
    "def reverse(lst,reverse_strings=False):\n",
    "    for i in range(len(lst)//2):\n",
    "        if reverse_strings:\n",
    "            lst[i], lst[-(i+1)] = lst[-(i+1)][::-1], lst[i][::-1]\n",
    "        else:\n",
    "            lst[i], lst[-(i+1)] = lst[-(i+1)], lst[i]\n",
    "    return\n",
    "\n",
    "\n",
    "# Set optional argument to True if you also want words reversed\n",
    "reverse(words,True)\n",
    "print(words)"
   ]
  },
  {
   "cell_type": "markdown",
   "metadata": {},
   "source": [
    "### Exercise #2 <br>\n",
    "<p>Create a function that counts how many distinct words are in the string below, then outputs a dictionary with the words as the key and the value as the amount of times that word appears in the string.<br>Should output:<br>{'a': 5,<br>\n",
    " 'abstract': 1,<br>\n",
    " 'an': 3,<br>\n",
    " 'array': 2, ... etc...</p>"
   ]
  },
  {
   "cell_type": "code",
   "execution_count": 2,
   "metadata": {},
   "outputs": [
    {
     "name": "stdout",
     "output_type": "stream",
     "text": [
      "{'in': 1, 'computing': 1, 'a': 5, 'hash': 4, 'table': 2, 'map': 2, 'is': 1, 'data': 2, 'structure': 2, 'which': 2, 'implements': 1, 'an': 3, 'associative': 1, 'array': 2, 'abstract': 1, 'type': 1, 'that': 1, 'can': 2, 'keys': 1, 'to': 2, 'values': 1, 'uses': 1, 'function': 1, 'compute': 1, 'index': 1, 'into': 1, 'of': 1, 'buckets': 1, 'or': 1, 'slots': 1, 'from': 1, 'the': 1, 'desired': 1, 'value': 1, 'be': 1, 'found': 1}\n"
     ]
    }
   ],
   "source": [
    "### Attempt 1\n",
    "import re\n",
    "from collections import Counter\n",
    "\n",
    "def distinct_words1(txt):\n",
    "    all_instances = re.findall(\"\\w+\",txt)\n",
    "    return dict(Counter(map(lambda word: word.lower(),all_instances)))\n",
    "\n",
    "\n",
    "a_text = 'In computing, a hash table hash map is a data structure which implements an associative array abstract data type, a structure that can map keys to values. A hash table uses a hash function to compute an index into an array of buckets or slots from which the desired value can be found'\n",
    "print(distinct_words1(a_text))\n"
   ]
  },
  {
   "cell_type": "code",
   "execution_count": 3,
   "metadata": {},
   "outputs": [
    {
     "name": "stdout",
     "output_type": "stream",
     "text": [
      "{'in': 1, 'computing': 1, 'a': 5, 'hash': 4, 'table': 2, 'map': 2, 'is': 1, 'data': 2, 'structure': 2, 'which': 2, 'implements': 1, 'an': 3, 'associative': 1, 'array': 2, 'abstract': 1, 'type': 1, 'that': 1, 'can': 2, 'keys': 1, 'to': 2, 'values': 1, 'uses': 1, 'function': 1, 'compute': 1, 'index': 1, 'into': 1, 'of': 1, 'buckets': 1, 'or': 1, 'slots': 1, 'from': 1, 'the': 1, 'desired': 1, 'value': 1, 'be': 1, 'found': 1}\n"
     ]
    }
   ],
   "source": [
    "# Attempt 2\n",
    "# Note. I made attempt 2 because I thought it would be faster\n",
    "# I did a speed check. And for a string 10,000,000 characters long,\n",
    "# with an average word length of 5.3 letters. Attempt 1 was finishing\n",
    "# much faster. Attempt 1 was taking about 0.78 s, amd Attempt 2 was\n",
    "# taking about 2.0 seconds. So attempt 1 is like 2.5 times faster\n",
    "# at least at these conditions. This is really different than\n",
    "# what I thought it would be\n",
    "\n",
    "def distinct_words2(txt):\n",
    "    word_dict = {}\n",
    "    # start will track the start of a word\n",
    "    # end will track the index after the last letter in the word\n",
    "    start = end = 0\n",
    "    while start < len(txt):\n",
    "        # if char at start is not letter, increment start and continue\n",
    "        if not txt[start].isalpha():\n",
    "            start += 1\n",
    "            continue\n",
    "\n",
    "        # If get to this point in code, start of new word has been found\n",
    "\n",
    "        # Sets 'end' equal to start + 1\n",
    "        end = start + 1\n",
    "        \n",
    "        # keeps incrementing len as long as it hasn't reached end of list\n",
    "        # and character at end is a letter\n",
    "        \n",
    "        while end < len(txt) and txt[end].isalpha():\n",
    "            end += 1\n",
    "        \n",
    "        # When while stops, know that txt[start:end] will be a full word\n",
    "        word = txt[start:end].lower()\n",
    "\n",
    "        # Add word count to dictionary\n",
    "        word_dict[word] = word_dict.get(word,0) + 1\n",
    "        \n",
    "        # Set start to next possible word location\n",
    "        start = end + 1\n",
    "    return word_dict\n",
    "\n",
    "a_text = 'In computing, a hash table hash map is a data structure which implements an associative array abstract data type, a structure that can map keys to values. A hash table uses a hash function to compute an index into an array of buckets or slots from which the desired value can be found'\n",
    "\n",
    "print(distinct_words2(a_text))"
   ]
  },
  {
   "cell_type": "markdown",
   "metadata": {},
   "source": [
    "## Exercise #3\n",
    "\n",
    "Write a program to implement a Linear Search Algorithm. Also in a comment, write the Time Complexity of the following algorithm.\n",
    "\n",
    "#### Hint: Linear Searching will require searching a list for a given number. "
   ]
  },
  {
   "cell_type": "code",
   "execution_count": 4,
   "metadata": {},
   "outputs": [
    {
     "name": "stdout",
     "output_type": "stream",
     "text": [
      "-1\n"
     ]
    }
   ],
   "source": [
    "def lin_search1(lst,target):\n",
    "    \"\"\"\n",
    "    Linear search algorithm to find a target in list and return index of first match. \n",
    "    If no match is found, -1 is returned.\n",
    "    O(n) time complexity.\n",
    "    O(1) in best case\n",
    "    O(n) in worst case\n",
    "    \"\"\"\n",
    "    for i, item in enumerate(lst):\n",
    "        if item == target:\n",
    "            return i\n",
    "    return -1\n",
    "\n",
    "\n",
    "nums = [1,4,6,4]\n",
    "print(lin_search1(nums,8))"
   ]
  },
  {
   "cell_type": "code",
   "execution_count": 5,
   "metadata": {},
   "outputs": [
    {
     "name": "stdout",
     "output_type": "stream",
     "text": [
      "[1, 3]\n"
     ]
    }
   ],
   "source": [
    "def lin_search2(lst,target):\n",
    "    \"\"\"\n",
    "    Linear search algorithm to find a target in list and return index of all matches\n",
    "    If no match is found, empty list is returned\n",
    "    O(n) time complexity.\n",
    "    O(n) in best case and worst case\n",
    "    \"\"\"\n",
    "    indices = []\n",
    "    for i,item in enumerate(lst):\n",
    "        if item == target:\n",
    "            indices.append(i)\n",
    "    return indices\n",
    "\n",
    "\n",
    "nums = [1,4,6,4]\n",
    "print(lin_search2(nums,4))"
   ]
  },
  {
   "cell_type": "code",
   "execution_count": 6,
   "metadata": {},
   "outputs": [
    {
     "data": {
      "text/plain": [
       "[(0, 3), (3, 0), (3, 2)]"
      ]
     },
     "execution_count": 6,
     "metadata": {},
     "output_type": "execute_result"
    }
   ],
   "source": [
    "def lin_search3(lst,search_char):\n",
    "    \"\"\"\n",
    "    Linear search algorithm that takes a list of of string, and finds a provided case insensitive\n",
    "    character. The output is a list of two-item tuples. First item is index of word in list in which\n",
    "    the character was found, and second item is the index within the word of the matching character\n",
    "    O(n) time complexity in best case, worst case, and average... \n",
    "        Or O(nk), where k is average length of word in list\n",
    "    \"\"\"\n",
    "    char_locations = []\n",
    "    search_char = search_char.lower()\n",
    "    for i1, word in enumerate(lst):\n",
    "        if not isinstance(word,str):\n",
    "            continue\n",
    "        for i2,char in enumerate(word):\n",
    "            if search_char == char.lower():\n",
    "                char_locations.append((i1,i2))\n",
    "    return char_locations\n",
    "\n",
    "words = [\"time\",\"is\",\"of\",\"Everthing\"]\n",
    "lin_search3(words,\"e\")"
   ]
  }
 ],
 "metadata": {
  "kernelspec": {
   "display_name": "Python 3 (ipykernel)",
   "language": "python",
   "name": "python3"
  },
  "language_info": {
   "codemirror_mode": {
    "name": "ipython",
    "version": 3
   },
   "file_extension": ".py",
   "mimetype": "text/x-python",
   "name": "python",
   "nbconvert_exporter": "python",
   "pygments_lexer": "ipython3",
   "version": "3.10.10"
  }
 },
 "nbformat": 4,
 "nbformat_minor": 2
}
